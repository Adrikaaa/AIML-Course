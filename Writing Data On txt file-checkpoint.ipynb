{
 "cells": [
  {
   "cell_type": "code",
   "execution_count": 13,
   "id": "7c2d5ff2-6531-4677-ba7e-4cfac783a76d",
   "metadata": {},
   "outputs": [],
   "source": [
    "fd=open(\"dataw.txt\",\"a\")\n",
    "fd.write(\"I am an AI Trainer\")\n",
    "fd.close()"
   ]
  },
  {
   "cell_type": "code",
   "execution_count": null,
   "id": "472938af-a713-4a74-9656-b3b84a52f8e7",
   "metadata": {},
   "outputs": [],
   "source": [
    "####write data in new line\n"
   ]
  },
  {
   "cell_type": "code",
   "execution_count": null,
   "id": "fd2b2805-4781-4a45-8b7e-ab0b197f59b8",
   "metadata": {},
   "outputs": [],
   "source": [
    "fd.write(\"Hello evryone\\n\")"
   ]
  },
  {
   "cell_type": "code",
   "execution_count": null,
   "id": "ebeab8f8-e594-401f-b0b7-8086ab2a751a",
   "metadata": {},
   "outputs": [],
   "source": [
    "fd.write(\"I am in new line\\n\")"
   ]
  }
 ],
 "metadata": {
  "kernelspec": {
   "display_name": "Python 3 (ipykernel)",
   "language": "python",
   "name": "python3"
  },
  "language_info": {
   "codemirror_mode": {
    "name": "ipython",
    "version": 3
   },
   "file_extension": ".py",
   "mimetype": "text/x-python",
   "name": "python",
   "nbconvert_exporter": "python",
   "pygments_lexer": "ipython3",
   "version": "3.13.5"
  }
 },
 "nbformat": 4,
 "nbformat_minor": 5
}
