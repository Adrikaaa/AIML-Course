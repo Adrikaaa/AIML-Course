{
 "cells": [
  {
   "cell_type": "code",
   "execution_count": 1,
   "id": "4eeef2d3-fda8-49e0-bd15-dbcabe698b42",
   "metadata": {},
   "outputs": [],
   "source": [
    "import pandas as pd"
   ]
  },
  {
   "cell_type": "code",
   "execution_count": 2,
   "id": "3595c176-03f6-4123-86d5-a88cbdc1e2c0",
   "metadata": {},
   "outputs": [],
   "source": [
    "df=pd.read_csv(\"Google-Playstore.csv\").dropna()"
   ]
  },
  {
   "cell_type": "code",
   "execution_count": 14,
   "id": "8706ced9-56f7-427f-ab87-0883bb347291",
   "metadata": {},
   "outputs": [
    {
     "data": {
      "text/html": [
       "<div>\n",
       "<style scoped>\n",
       "    .dataframe tbody tr th:only-of-type {\n",
       "        vertical-align: middle;\n",
       "    }\n",
       "\n",
       "    .dataframe tbody tr th {\n",
       "        vertical-align: top;\n",
       "    }\n",
       "\n",
       "    .dataframe thead th {\n",
       "        text-align: right;\n",
       "    }\n",
       "</style>\n",
       "<table border=\"1\" class=\"dataframe\">\n",
       "  <thead>\n",
       "    <tr style=\"text-align: right;\">\n",
       "      <th></th>\n",
       "      <th>App Name</th>\n",
       "      <th>App Id</th>\n",
       "      <th>Category</th>\n",
       "      <th>Rating</th>\n",
       "      <th>Rating Count</th>\n",
       "      <th>Installs</th>\n",
       "      <th>Minimum Installs</th>\n",
       "      <th>Maximum Installs</th>\n",
       "      <th>Free</th>\n",
       "      <th>Price</th>\n",
       "      <th>...</th>\n",
       "      <th>Developer Website</th>\n",
       "      <th>Developer Email</th>\n",
       "      <th>Released</th>\n",
       "      <th>Last Updated</th>\n",
       "      <th>Content Rating</th>\n",
       "      <th>Privacy Policy</th>\n",
       "      <th>Ad Supported</th>\n",
       "      <th>In App Purchases</th>\n",
       "      <th>Editors Choice</th>\n",
       "      <th>Scraped Time</th>\n",
       "    </tr>\n",
       "  </thead>\n",
       "  <tbody>\n",
       "    <tr>\n",
       "      <th>0</th>\n",
       "      <td>Gakondo</td>\n",
       "      <td>com.ishakwe.gakondo</td>\n",
       "      <td>Adventure</td>\n",
       "      <td>0.0</td>\n",
       "      <td>0.0</td>\n",
       "      <td>10+</td>\n",
       "      <td>10.0</td>\n",
       "      <td>15</td>\n",
       "      <td>True</td>\n",
       "      <td>0.0</td>\n",
       "      <td>...</td>\n",
       "      <td>https://beniyizibyose.tk/#/</td>\n",
       "      <td>jean21101999@gmail.com</td>\n",
       "      <td>Feb 26, 2020</td>\n",
       "      <td>Feb 26, 2020</td>\n",
       "      <td>Everyone</td>\n",
       "      <td>https://beniyizibyose.tk/projects/</td>\n",
       "      <td>False</td>\n",
       "      <td>False</td>\n",
       "      <td>False</td>\n",
       "      <td>2021-06-15 20:19:35</td>\n",
       "    </tr>\n",
       "    <tr>\n",
       "      <th>1</th>\n",
       "      <td>Ampere Battery Info</td>\n",
       "      <td>com.webserveis.batteryinfo</td>\n",
       "      <td>Tools</td>\n",
       "      <td>4.4</td>\n",
       "      <td>64.0</td>\n",
       "      <td>5,000+</td>\n",
       "      <td>5000.0</td>\n",
       "      <td>7662</td>\n",
       "      <td>True</td>\n",
       "      <td>0.0</td>\n",
       "      <td>...</td>\n",
       "      <td>https://webserveis.netlify.app/</td>\n",
       "      <td>webserveis@gmail.com</td>\n",
       "      <td>May 21, 2020</td>\n",
       "      <td>May 06, 2021</td>\n",
       "      <td>Everyone</td>\n",
       "      <td>https://dev4phones.wordpress.com/licencia-de-uso/</td>\n",
       "      <td>True</td>\n",
       "      <td>False</td>\n",
       "      <td>False</td>\n",
       "      <td>2021-06-15 20:19:35</td>\n",
       "    </tr>\n",
       "    <tr>\n",
       "      <th>4</th>\n",
       "      <td>GROW.me</td>\n",
       "      <td>com.horodyski.grower</td>\n",
       "      <td>Tools</td>\n",
       "      <td>0.0</td>\n",
       "      <td>0.0</td>\n",
       "      <td>100+</td>\n",
       "      <td>100.0</td>\n",
       "      <td>478</td>\n",
       "      <td>True</td>\n",
       "      <td>0.0</td>\n",
       "      <td>...</td>\n",
       "      <td>http://www.horodyski.com.pl</td>\n",
       "      <td>rmilekhorodyski@gmail.com</td>\n",
       "      <td>Feb 21, 2020</td>\n",
       "      <td>Nov 12, 2018</td>\n",
       "      <td>Everyone</td>\n",
       "      <td>http://www.horodyski.com.pl</td>\n",
       "      <td>False</td>\n",
       "      <td>False</td>\n",
       "      <td>False</td>\n",
       "      <td>2021-06-15 20:19:35</td>\n",
       "    </tr>\n",
       "    <tr>\n",
       "      <th>5</th>\n",
       "      <td>IMOCCI</td>\n",
       "      <td>com.imocci</td>\n",
       "      <td>Social</td>\n",
       "      <td>0.0</td>\n",
       "      <td>0.0</td>\n",
       "      <td>50+</td>\n",
       "      <td>50.0</td>\n",
       "      <td>89</td>\n",
       "      <td>True</td>\n",
       "      <td>0.0</td>\n",
       "      <td>...</td>\n",
       "      <td>http://www.imocci.com</td>\n",
       "      <td>info@imocci.com</td>\n",
       "      <td>Dec 24, 2018</td>\n",
       "      <td>Dec 20, 2019</td>\n",
       "      <td>Teen</td>\n",
       "      <td>https://www.imocci.com/wp-content/uploads/2018...</td>\n",
       "      <td>False</td>\n",
       "      <td>True</td>\n",
       "      <td>False</td>\n",
       "      <td>2021-06-15 20:19:35</td>\n",
       "    </tr>\n",
       "    <tr>\n",
       "      <th>9</th>\n",
       "      <td>Neon 3d Iron Tech Keyboard Theme</td>\n",
       "      <td>com.ikeyboard.theme.neon_3d.iron.tech</td>\n",
       "      <td>Personalization</td>\n",
       "      <td>4.7</td>\n",
       "      <td>820.0</td>\n",
       "      <td>50,000+</td>\n",
       "      <td>50000.0</td>\n",
       "      <td>62433</td>\n",
       "      <td>True</td>\n",
       "      <td>0.0</td>\n",
       "      <td>...</td>\n",
       "      <td>https://trendyteme888-31139.web.app</td>\n",
       "      <td>trendyteme.888@gmail.com</td>\n",
       "      <td>Sep 22, 2019</td>\n",
       "      <td>Oct 07, 2020</td>\n",
       "      <td>Everyone</td>\n",
       "      <td>http://bit.ly/EmojiThemePro</td>\n",
       "      <td>True</td>\n",
       "      <td>False</td>\n",
       "      <td>False</td>\n",
       "      <td>2021-06-15 20:19:35</td>\n",
       "    </tr>\n",
       "  </tbody>\n",
       "</table>\n",
       "<p>5 rows × 24 columns</p>\n",
       "</div>"
      ],
      "text/plain": [
       "                           App Name                                 App Id  \\\n",
       "0                           Gakondo                    com.ishakwe.gakondo   \n",
       "1               Ampere Battery Info             com.webserveis.batteryinfo   \n",
       "4                           GROW.me                   com.horodyski.grower   \n",
       "5                            IMOCCI                             com.imocci   \n",
       "9  Neon 3d Iron Tech Keyboard Theme  com.ikeyboard.theme.neon_3d.iron.tech   \n",
       "\n",
       "          Category  Rating  Rating Count Installs  Minimum Installs  \\\n",
       "0        Adventure     0.0           0.0      10+              10.0   \n",
       "1            Tools     4.4          64.0   5,000+            5000.0   \n",
       "4            Tools     0.0           0.0     100+             100.0   \n",
       "5           Social     0.0           0.0      50+              50.0   \n",
       "9  Personalization     4.7         820.0  50,000+           50000.0   \n",
       "\n",
       "   Maximum Installs  Free  Price  ...                    Developer Website  \\\n",
       "0                15  True    0.0  ...          https://beniyizibyose.tk/#/   \n",
       "1              7662  True    0.0  ...      https://webserveis.netlify.app/   \n",
       "4               478  True    0.0  ...          http://www.horodyski.com.pl   \n",
       "5                89  True    0.0  ...                http://www.imocci.com   \n",
       "9             62433  True    0.0  ...  https://trendyteme888-31139.web.app   \n",
       "\n",
       "             Developer Email      Released  Last Updated Content Rating  \\\n",
       "0     jean21101999@gmail.com  Feb 26, 2020  Feb 26, 2020       Everyone   \n",
       "1       webserveis@gmail.com  May 21, 2020  May 06, 2021       Everyone   \n",
       "4  rmilekhorodyski@gmail.com  Feb 21, 2020  Nov 12, 2018       Everyone   \n",
       "5            info@imocci.com  Dec 24, 2018  Dec 20, 2019           Teen   \n",
       "9   trendyteme.888@gmail.com  Sep 22, 2019  Oct 07, 2020       Everyone   \n",
       "\n",
       "                                      Privacy Policy Ad Supported  \\\n",
       "0                 https://beniyizibyose.tk/projects/        False   \n",
       "1  https://dev4phones.wordpress.com/licencia-de-uso/         True   \n",
       "4                        http://www.horodyski.com.pl        False   \n",
       "5  https://www.imocci.com/wp-content/uploads/2018...        False   \n",
       "9                        http://bit.ly/EmojiThemePro         True   \n",
       "\n",
       "  In App Purchases Editors Choice         Scraped Time  \n",
       "0            False          False  2021-06-15 20:19:35  \n",
       "1            False          False  2021-06-15 20:19:35  \n",
       "4            False          False  2021-06-15 20:19:35  \n",
       "5             True          False  2021-06-15 20:19:35  \n",
       "9            False          False  2021-06-15 20:19:35  \n",
       "\n",
       "[5 rows x 24 columns]"
      ]
     },
     "execution_count": 14,
     "metadata": {},
     "output_type": "execute_result"
    }
   ],
   "source": [
    "df.head()"
   ]
  },
  {
   "cell_type": "code",
   "execution_count": 22,
   "id": "cccf056d-7a09-4ae0-94b7-e6a2a45c9996",
   "metadata": {},
   "outputs": [
    {
     "name": "stdout",
     "output_type": "stream",
     "text": [
      "App Name\n",
      "App Id\n",
      "Category\n",
      "Rating\n",
      "Rating Count\n",
      "Installs\n",
      "Minimum Installs\n",
      "Maximum Installs\n",
      "Free\n",
      "Price\n",
      "Currency\n",
      "Size\n",
      "Minimum Android\n",
      "Developer Id\n",
      "Developer Website\n",
      "Developer Email\n",
      "Released\n",
      "Last Updated\n",
      "Content Rating\n",
      "Privacy Policy\n",
      "Ad Supported\n",
      "In App Purchases\n",
      "Editors Choice\n",
      "Scraped Time\n"
     ]
    }
   ],
   "source": [
    "for i in df.columns:\n",
    "    print(i)"
   ]
  },
  {
   "cell_type": "code",
   "execution_count": 10,
   "id": "6300cd86-d50f-4503-8929-993b203a1fff",
   "metadata": {},
   "outputs": [
    {
     "name": "stdin",
     "output_type": "stream",
     "text": [
      "Enter Category: Beauty\n"
     ]
    },
    {
     "name": "stdout",
     "output_type": "stream",
     "text": [
      "The number of Beauty is 6179\n"
     ]
    }
   ],
   "source": [
    "c=0\n",
    "ec=input(\"Enter Category:\")\n",
    "for i in df['Category']:\n",
    "    if (ec==i):\n",
    "        c+=1\n",
    "print(\"The number of\",ec,\"is\",c)    \n",
    "     \n"
   ]
  },
  {
   "cell_type": "code",
   "execution_count": 11,
   "id": "a127242e-07d9-4574-b87a-cd6b5af01e83",
   "metadata": {},
   "outputs": [
    {
     "name": "stdin",
     "output_type": "stream",
     "text": [
      "Enter Category: Dating\n"
     ]
    },
    {
     "name": "stdout",
     "output_type": "stream",
     "text": [
      "The number of Dating is 3429\n"
     ]
    }
   ],
   "source": [
    "c=0\n",
    "ec=input(\"Enter Category:\")\n",
    "for i in df['Category']:\n",
    "    if (ec==i):\n",
    "        c+=1\n",
    "print(\"The number of\",ec,\"is\",c)    \n",
    "     \n"
   ]
  },
  {
   "cell_type": "code",
   "execution_count": 12,
   "id": "e1b4d9b1-f32c-42d9-a357-79779f3aba15",
   "metadata": {},
   "outputs": [
    {
     "name": "stdout",
     "output_type": "stream",
     "text": [
      "Adventure : 10295\n",
      "Tools : 67215\n",
      "Social : 27164\n",
      "Personalization : 37819\n",
      "Maps & Navigation : 15821\n",
      "Travel & Local : 46613\n",
      "Food & Drink : 45773\n",
      "Puzzle : 25069\n",
      "Entertainment : 63581\n",
      "Photography : 16827\n",
      "Health & Fitness : 51770\n",
      "Shopping : 48981\n",
      "Books & Reference : 56515\n",
      "Beauty : 6179\n",
      "Business : 100311\n",
      "Educational : 13048\n",
      "Lifestyle : 75017\n",
      "Music & Audio : 87008\n",
      "News & Magazines : 29320\n",
      "Auto & Vehicles : 10744\n",
      "Productivity : 46960\n",
      "Education : 127219\n",
      "Art & Design : 8007\n",
      "House & Home : 8707\n",
      "Racing : 5383\n",
      "Sports : 29180\n",
      "Events : 8497\n",
      "Finance : 44111\n",
      "Weather : 4103\n",
      "Board : 5175\n",
      "Medical : 20260\n",
      "Communication : 30703\n",
      "Word : 4989\n",
      "Action : 12385\n",
      "Trivia : 5885\n",
      "Simulation : 12569\n",
      "Video Players & Editors : 6883\n",
      "Music : 2200\n",
      "Arcade : 19925\n",
      "Libraries & Demo : 2371\n",
      "Casual : 21958\n",
      "Dating : 3429\n",
      "Strategy : 4117\n",
      "Card : 4858\n",
      "Role Playing : 5711\n",
      "Casino : 2810\n",
      "Parenting : 2381\n",
      "Comics : 1345\n"
     ]
    }
   ],
   "source": [
    "#sir\n",
    "for name in df['Category'].unique():\n",
    "    ct=0;\n",
    "    for i in df['Category']:\n",
    "        if(i==name):\n",
    "            ct+=1\n",
    "    print(name,\":\",ct)        "
   ]
  },
  {
   "cell_type": "code",
   "execution_count": 16,
   "id": "d31bbef3-8bd1-4c1f-8523-bb7235bdf42b",
   "metadata": {},
   "outputs": [],
   "source": [
    "categories={}\n",
    "for name in df['Category'].unique():\n",
    "    ct=0;\n",
    "    for i in df['Category']:\n",
    "        if(i==name):\n",
    "            ct+=1\n",
    "    categories[name]=ct       "
   ]
  },
  {
   "cell_type": "code",
   "execution_count": 18,
   "id": "7005085c-641a-4479-9377-4784c188d366",
   "metadata": {},
   "outputs": [
    {
     "data": {
      "text/plain": [
       "{'Adventure': 10295,\n",
       " 'Tools': 67215,\n",
       " 'Social': 27164,\n",
       " 'Personalization': 37819,\n",
       " 'Maps & Navigation': 15821,\n",
       " 'Travel & Local': 46613,\n",
       " 'Food & Drink': 45773,\n",
       " 'Puzzle': 25069,\n",
       " 'Entertainment': 63581,\n",
       " 'Photography': 16827,\n",
       " 'Health & Fitness': 51770,\n",
       " 'Shopping': 48981,\n",
       " 'Books & Reference': 56515,\n",
       " 'Beauty': 6179,\n",
       " 'Business': 100311,\n",
       " 'Educational': 13048,\n",
       " 'Lifestyle': 75017,\n",
       " 'Music & Audio': 87008,\n",
       " 'News & Magazines': 29320,\n",
       " 'Auto & Vehicles': 10744,\n",
       " 'Productivity': 46960,\n",
       " 'Education': 127219,\n",
       " 'Art & Design': 8007,\n",
       " 'House & Home': 8707,\n",
       " 'Racing': 5383,\n",
       " 'Sports': 29180,\n",
       " 'Events': 8497,\n",
       " 'Finance': 44111,\n",
       " 'Weather': 4103,\n",
       " 'Board': 5175,\n",
       " 'Medical': 20260,\n",
       " 'Communication': 30703,\n",
       " 'Word': 4989,\n",
       " 'Action': 12385,\n",
       " 'Trivia': 5885,\n",
       " 'Simulation': 12569,\n",
       " 'Video Players & Editors': 6883,\n",
       " 'Music': 2200,\n",
       " 'Arcade': 19925,\n",
       " 'Libraries & Demo': 2371,\n",
       " 'Casual': 21958,\n",
       " 'Dating': 3429,\n",
       " 'Strategy': 4117,\n",
       " 'Card': 4858,\n",
       " 'Role Playing': 5711,\n",
       " 'Casino': 2810,\n",
       " 'Parenting': 2381,\n",
       " 'Comics': 1345}"
      ]
     },
     "execution_count": 18,
     "metadata": {},
     "output_type": "execute_result"
    }
   ],
   "source": [
    "categories"
   ]
  },
  {
   "cell_type": "code",
   "execution_count": 23,
   "id": "3981a82b-1f18-46ac-bcd0-32784ea80614",
   "metadata": {},
   "outputs": [
    {
     "data": {
      "text/plain": [
       "count    1.287191e+06\n",
       "mean     2.315500e+00\n",
       "std      2.090373e+00\n",
       "min      0.000000e+00\n",
       "25%      0.000000e+00\n",
       "50%      3.300000e+00\n",
       "75%      4.300000e+00\n",
       "max      5.000000e+00\n",
       "Name: Rating, dtype: float64"
      ]
     },
     "execution_count": 23,
     "metadata": {},
     "output_type": "execute_result"
    }
   ],
   "source": [
    "df['Rating'].describe()"
   ]
  },
  {
   "cell_type": "code",
   "execution_count": 24,
   "id": "0deec1d9-94d2-464f-b3c3-23b56eb2faa4",
   "metadata": {},
   "outputs": [
    {
     "data": {
      "text/plain": [
       "0                Adventure\n",
       "1                    Tools\n",
       "4                    Tools\n",
       "5                   Social\n",
       "9          Personalization\n",
       "                ...       \n",
       "2312933      Music & Audio\n",
       "2312934          Education\n",
       "2312938          Education\n",
       "2312940          Education\n",
       "2312942      Music & Audio\n",
       "Name: Category, Length: 1287191, dtype: object"
      ]
     },
     "execution_count": 24,
     "metadata": {},
     "output_type": "execute_result"
    }
   ],
   "source": [
    "df['Category']"
   ]
  },
  {
   "cell_type": "code",
   "execution_count": 25,
   "id": "8880f5b2-9007-4f54-ba2d-0572bb291bda",
   "metadata": {},
   "outputs": [
    {
     "data": {
      "text/plain": [
       "0          0.0\n",
       "1          0.0\n",
       "4          0.0\n",
       "5          0.0\n",
       "9          0.0\n",
       "          ... \n",
       "2312933    0.0\n",
       "2312934    0.0\n",
       "2312938    0.0\n",
       "2312940    0.0\n",
       "2312942    0.0\n",
       "Name: Price, Length: 1287191, dtype: float64"
      ]
     },
     "execution_count": 25,
     "metadata": {},
     "output_type": "execute_result"
    }
   ],
   "source": [
    "df['Price']"
   ]
  }
 ],
 "metadata": {
  "kernelspec": {
   "display_name": "Python 3 (ipykernel)",
   "language": "python",
   "name": "python3"
  },
  "language_info": {
   "codemirror_mode": {
    "name": "ipython",
    "version": 3
   },
   "file_extension": ".py",
   "mimetype": "text/x-python",
   "name": "python",
   "nbconvert_exporter": "python",
   "pygments_lexer": "ipython3",
   "version": "3.13.5"
  }
 },
 "nbformat": 4,
 "nbformat_minor": 5
}
