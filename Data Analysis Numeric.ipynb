{
 "cells": [
  {
   "cell_type": "code",
   "execution_count": 4,
   "id": "89f02886-b8aa-4493-b16a-4574ab21e272",
   "metadata": {},
   "outputs": [],
   "source": [
    "import pandas as pd"
   ]
  },
  {
   "cell_type": "code",
   "execution_count": 5,
   "id": "d681cfd1-ae3e-4b5b-b30f-a0111d582e6b",
   "metadata": {},
   "outputs": [],
   "source": [
    "data = pd.read_csv(\"Google-Playstore.csv\")"
   ]
  },
  {
   "cell_type": "code",
   "execution_count": 6,
   "id": "0a4a511f-38f1-44e9-8481-6c86174fc833",
   "metadata": {},
   "outputs": [
    {
     "data": {
      "text/html": [
       "<div>\n",
       "<style scoped>\n",
       "    .dataframe tbody tr th:only-of-type {\n",
       "        vertical-align: middle;\n",
       "    }\n",
       "\n",
       "    .dataframe tbody tr th {\n",
       "        vertical-align: top;\n",
       "    }\n",
       "\n",
       "    .dataframe thead th {\n",
       "        text-align: right;\n",
       "    }\n",
       "</style>\n",
       "<table border=\"1\" class=\"dataframe\">\n",
       "  <thead>\n",
       "    <tr style=\"text-align: right;\">\n",
       "      <th></th>\n",
       "      <th>App Name</th>\n",
       "      <th>App Id</th>\n",
       "      <th>Category</th>\n",
       "      <th>Rating</th>\n",
       "      <th>Rating Count</th>\n",
       "      <th>Installs</th>\n",
       "      <th>Minimum Installs</th>\n",
       "      <th>Maximum Installs</th>\n",
       "      <th>Free</th>\n",
       "      <th>Price</th>\n",
       "      <th>...</th>\n",
       "      <th>Developer Website</th>\n",
       "      <th>Developer Email</th>\n",
       "      <th>Released</th>\n",
       "      <th>Last Updated</th>\n",
       "      <th>Content Rating</th>\n",
       "      <th>Privacy Policy</th>\n",
       "      <th>Ad Supported</th>\n",
       "      <th>In App Purchases</th>\n",
       "      <th>Editors Choice</th>\n",
       "      <th>Scraped Time</th>\n",
       "    </tr>\n",
       "  </thead>\n",
       "  <tbody>\n",
       "    <tr>\n",
       "      <th>0</th>\n",
       "      <td>Gakondo</td>\n",
       "      <td>com.ishakwe.gakondo</td>\n",
       "      <td>Adventure</td>\n",
       "      <td>0.0</td>\n",
       "      <td>0.0</td>\n",
       "      <td>10+</td>\n",
       "      <td>10.0</td>\n",
       "      <td>15</td>\n",
       "      <td>True</td>\n",
       "      <td>0.0</td>\n",
       "      <td>...</td>\n",
       "      <td>https://beniyizibyose.tk/#/</td>\n",
       "      <td>jean21101999@gmail.com</td>\n",
       "      <td>Feb 26, 2020</td>\n",
       "      <td>Feb 26, 2020</td>\n",
       "      <td>Everyone</td>\n",
       "      <td>https://beniyizibyose.tk/projects/</td>\n",
       "      <td>False</td>\n",
       "      <td>False</td>\n",
       "      <td>False</td>\n",
       "      <td>2021-06-15 20:19:35</td>\n",
       "    </tr>\n",
       "    <tr>\n",
       "      <th>1</th>\n",
       "      <td>Ampere Battery Info</td>\n",
       "      <td>com.webserveis.batteryinfo</td>\n",
       "      <td>Tools</td>\n",
       "      <td>4.4</td>\n",
       "      <td>64.0</td>\n",
       "      <td>5,000+</td>\n",
       "      <td>5000.0</td>\n",
       "      <td>7662</td>\n",
       "      <td>True</td>\n",
       "      <td>0.0</td>\n",
       "      <td>...</td>\n",
       "      <td>https://webserveis.netlify.app/</td>\n",
       "      <td>webserveis@gmail.com</td>\n",
       "      <td>May 21, 2020</td>\n",
       "      <td>May 06, 2021</td>\n",
       "      <td>Everyone</td>\n",
       "      <td>https://dev4phones.wordpress.com/licencia-de-uso/</td>\n",
       "      <td>True</td>\n",
       "      <td>False</td>\n",
       "      <td>False</td>\n",
       "      <td>2021-06-15 20:19:35</td>\n",
       "    </tr>\n",
       "    <tr>\n",
       "      <th>2</th>\n",
       "      <td>Vibook</td>\n",
       "      <td>com.doantiepvien.crm</td>\n",
       "      <td>Productivity</td>\n",
       "      <td>0.0</td>\n",
       "      <td>0.0</td>\n",
       "      <td>50+</td>\n",
       "      <td>50.0</td>\n",
       "      <td>58</td>\n",
       "      <td>True</td>\n",
       "      <td>0.0</td>\n",
       "      <td>...</td>\n",
       "      <td>NaN</td>\n",
       "      <td>vnacrewit@gmail.com</td>\n",
       "      <td>Aug 9, 2019</td>\n",
       "      <td>Aug 19, 2019</td>\n",
       "      <td>Everyone</td>\n",
       "      <td>https://www.vietnamairlines.com/vn/en/terms-an...</td>\n",
       "      <td>False</td>\n",
       "      <td>False</td>\n",
       "      <td>False</td>\n",
       "      <td>2021-06-15 20:19:35</td>\n",
       "    </tr>\n",
       "    <tr>\n",
       "      <th>3</th>\n",
       "      <td>Smart City Trichy Public Service Vehicles 17UC...</td>\n",
       "      <td>cst.stJoseph.ug17ucs548</td>\n",
       "      <td>Communication</td>\n",
       "      <td>5.0</td>\n",
       "      <td>5.0</td>\n",
       "      <td>10+</td>\n",
       "      <td>10.0</td>\n",
       "      <td>19</td>\n",
       "      <td>True</td>\n",
       "      <td>0.0</td>\n",
       "      <td>...</td>\n",
       "      <td>http://www.climatesmarttech.com/</td>\n",
       "      <td>climatesmarttech2@gmail.com</td>\n",
       "      <td>Sep 10, 2018</td>\n",
       "      <td>Oct 13, 2018</td>\n",
       "      <td>Everyone</td>\n",
       "      <td>NaN</td>\n",
       "      <td>True</td>\n",
       "      <td>False</td>\n",
       "      <td>False</td>\n",
       "      <td>2021-06-15 20:19:35</td>\n",
       "    </tr>\n",
       "    <tr>\n",
       "      <th>4</th>\n",
       "      <td>GROW.me</td>\n",
       "      <td>com.horodyski.grower</td>\n",
       "      <td>Tools</td>\n",
       "      <td>0.0</td>\n",
       "      <td>0.0</td>\n",
       "      <td>100+</td>\n",
       "      <td>100.0</td>\n",
       "      <td>478</td>\n",
       "      <td>True</td>\n",
       "      <td>0.0</td>\n",
       "      <td>...</td>\n",
       "      <td>http://www.horodyski.com.pl</td>\n",
       "      <td>rmilekhorodyski@gmail.com</td>\n",
       "      <td>Feb 21, 2020</td>\n",
       "      <td>Nov 12, 2018</td>\n",
       "      <td>Everyone</td>\n",
       "      <td>http://www.horodyski.com.pl</td>\n",
       "      <td>False</td>\n",
       "      <td>False</td>\n",
       "      <td>False</td>\n",
       "      <td>2021-06-15 20:19:35</td>\n",
       "    </tr>\n",
       "  </tbody>\n",
       "</table>\n",
       "<p>5 rows × 24 columns</p>\n",
       "</div>"
      ],
      "text/plain": [
       "                                            App Name  \\\n",
       "0                                            Gakondo   \n",
       "1                                Ampere Battery Info   \n",
       "2                                             Vibook   \n",
       "3  Smart City Trichy Public Service Vehicles 17UC...   \n",
       "4                                            GROW.me   \n",
       "\n",
       "                       App Id       Category  Rating  Rating Count Installs  \\\n",
       "0         com.ishakwe.gakondo      Adventure     0.0           0.0      10+   \n",
       "1  com.webserveis.batteryinfo          Tools     4.4          64.0   5,000+   \n",
       "2        com.doantiepvien.crm   Productivity     0.0           0.0      50+   \n",
       "3     cst.stJoseph.ug17ucs548  Communication     5.0           5.0      10+   \n",
       "4        com.horodyski.grower          Tools     0.0           0.0     100+   \n",
       "\n",
       "   Minimum Installs  Maximum Installs  Free  Price  ...  \\\n",
       "0              10.0                15  True    0.0  ...   \n",
       "1            5000.0              7662  True    0.0  ...   \n",
       "2              50.0                58  True    0.0  ...   \n",
       "3              10.0                19  True    0.0  ...   \n",
       "4             100.0               478  True    0.0  ...   \n",
       "\n",
       "                  Developer Website              Developer Email  \\\n",
       "0       https://beniyizibyose.tk/#/       jean21101999@gmail.com   \n",
       "1   https://webserveis.netlify.app/         webserveis@gmail.com   \n",
       "2                               NaN          vnacrewit@gmail.com   \n",
       "3  http://www.climatesmarttech.com/  climatesmarttech2@gmail.com   \n",
       "4       http://www.horodyski.com.pl    rmilekhorodyski@gmail.com   \n",
       "\n",
       "       Released  Last Updated Content Rating  \\\n",
       "0  Feb 26, 2020  Feb 26, 2020       Everyone   \n",
       "1  May 21, 2020  May 06, 2021       Everyone   \n",
       "2   Aug 9, 2019  Aug 19, 2019       Everyone   \n",
       "3  Sep 10, 2018  Oct 13, 2018       Everyone   \n",
       "4  Feb 21, 2020  Nov 12, 2018       Everyone   \n",
       "\n",
       "                                      Privacy Policy Ad Supported  \\\n",
       "0                 https://beniyizibyose.tk/projects/        False   \n",
       "1  https://dev4phones.wordpress.com/licencia-de-uso/         True   \n",
       "2  https://www.vietnamairlines.com/vn/en/terms-an...        False   \n",
       "3                                                NaN         True   \n",
       "4                        http://www.horodyski.com.pl        False   \n",
       "\n",
       "  In App Purchases Editors Choice         Scraped Time  \n",
       "0            False          False  2021-06-15 20:19:35  \n",
       "1            False          False  2021-06-15 20:19:35  \n",
       "2            False          False  2021-06-15 20:19:35  \n",
       "3            False          False  2021-06-15 20:19:35  \n",
       "4            False          False  2021-06-15 20:19:35  \n",
       "\n",
       "[5 rows x 24 columns]"
      ]
     },
     "execution_count": 6,
     "metadata": {},
     "output_type": "execute_result"
    }
   ],
   "source": [
    "data.head()"
   ]
  },
  {
   "cell_type": "markdown",
   "id": "ffe48cf5-5387-4c5a-b866-6c859fc757eb",
   "metadata": {},
   "source": [
    "### FINDING AVERAGE RATING"
   ]
  },
  {
   "cell_type": "code",
   "execution_count": 7,
   "id": "8295cce3-cb07-43b0-8b53-ceec823c9294",
   "metadata": {},
   "outputs": [
    {
     "data": {
      "text/plain": [
       "0              10.0\n",
       "1            5000.0\n",
       "2              50.0\n",
       "3              10.0\n",
       "4             100.0\n",
       "             ...   \n",
       "2312939    100000.0\n",
       "2312940       100.0\n",
       "2312941       100.0\n",
       "2312942      1000.0\n",
       "2312943       100.0\n",
       "Name: Minimum Installs, Length: 2312944, dtype: float64"
      ]
     },
     "execution_count": 7,
     "metadata": {},
     "output_type": "execute_result"
    }
   ],
   "source": [
    "data['Minimum Installs']"
   ]
  },
  {
   "cell_type": "code",
   "execution_count": 8,
   "id": "3de18f05-0d8c-4d2b-af40-d4d30c72d7cc",
   "metadata": {},
   "outputs": [],
   "source": [
    "# Remove commas and plus signs if present\n",
    "data['Minimum Installs'] = data['Minimum Installs'].replace('[+,]', '', regex=True)\n",
    "\n",
    "# Convert to numeric, force errors to NaN\n",
    "data['Minimum Installs'] = pd.to_numeric(data['Minimum Installs'], errors='coerce')\n"
   ]
  },
  {
   "cell_type": "code",
   "execution_count": 9,
   "id": "9474df21-5e92-4eef-b256-ace6cd2218b7",
   "metadata": {},
   "outputs": [
    {
     "name": "stdout",
     "output_type": "stream",
     "text": [
      "107\n",
      "float64\n",
      "424278878315.0\n"
     ]
    }
   ],
   "source": [
    "print(data['Minimum Installs'].isna().sum())  # Check how many NaNs\n",
    "print(data['Minimum Installs'].dtype)         # Should now be float or int\n",
    "print(sum(data['Minimum Installs'].dropna())) # Or use .sum() directly\n"
   ]
  },
  {
   "cell_type": "code",
   "execution_count": 10,
   "id": "fdc8053a-1fd9-4565-8ebe-5c2e911d701b",
   "metadata": {},
   "outputs": [
    {
     "data": {
      "text/plain": [
       "424278878315"
      ]
     },
     "execution_count": 10,
     "metadata": {},
     "output_type": "execute_result"
    }
   ],
   "source": [
    "int(data['Minimum Installs'].sum())\n",
    "#sum(data['Minimum Installs'])"
   ]
  },
  {
   "cell_type": "code",
   "execution_count": 11,
   "id": "8b69eb86-94bc-4cc3-a64a-4c3afe3e4f82",
   "metadata": {},
   "outputs": [
    {
     "data": {
      "text/plain": [
       "np.float64(424278878315.0)"
      ]
     },
     "execution_count": 11,
     "metadata": {},
     "output_type": "execute_result"
    }
   ],
   "source": [
    "data['Minimum Installs'].sum()  # This is pandas' sum(), ignores NaNs by default\n"
   ]
  },
  {
   "cell_type": "code",
   "execution_count": 12,
   "id": "e6503969-2ea6-4f42-889a-df9786d49bb3",
   "metadata": {},
   "outputs": [
    {
     "data": {
      "text/plain": [
       "'1834'"
      ]
     },
     "execution_count": 12,
     "metadata": {},
     "output_type": "execute_result"
    }
   ],
   "source": [
    "#avg=int(data['Minimum Installs'].sum()/2312944) slicing only for string\n",
    "#0r\n",
    "str(int(data['Minimum Installs'].sum()/2312944))[:4]# no need of slicing for minimum install its only for decimal values"
   ]
  },
  {
   "cell_type": "code",
   "execution_count": 13,
   "id": "0d10b26d-a773-4f61-b94e-8e0d80c0cfa7",
   "metadata": {},
   "outputs": [
    {
     "data": {
      "text/plain": [
       "183436"
      ]
     },
     "execution_count": 13,
     "metadata": {},
     "output_type": "execute_result"
    }
   ],
   "source": [
    "avg=int(data['Minimum Installs'].sum()/2312944)\n",
    "avg"
   ]
  },
  {
   "cell_type": "code",
   "execution_count": 14,
   "id": "c58e906d-8828-48d8-a193-ee89cc53a715",
   "metadata": {},
   "outputs": [
    {
     "name": "stdout",
     "output_type": "stream",
     "text": [
      "nan\n"
     ]
    }
   ],
   "source": [
    "s=0\n",
    "for i in data['Minimum Installs']:\n",
    "    s+=i\n",
    "print(s)      "
   ]
  },
  {
   "cell_type": "markdown",
   "id": "f9bfa46c-b169-4a95-b78f-03ea3b7ebf81",
   "metadata": {},
   "source": [
    "## How many apps are there with rating 5?"
   ]
  },
  {
   "cell_type": "code",
   "execution_count": 17,
   "id": "1c704773-bc5a-480c-9467-552cee980b0a",
   "metadata": {},
   "outputs": [
    {
     "name": "stdout",
     "output_type": "stream",
     "text": [
      "There are 100122 application with ratingg 5\n"
     ]
    }
   ],
   "source": [
    "c=0\n",
    "for i in data ['Rating']:\n",
    "    if (i== 5.0):\n",
    "        c +=1\n",
    "print(\"There are\",c,\"application with ratingg 5\")        "
   ]
  },
  {
   "cell_type": "markdown",
   "id": "db341668-060c-4ee7-a92a-592cf64ac384",
   "metadata": {},
   "source": [
    "## How many apps are there with rating between 4.5 to 5?"
   ]
  },
  {
   "cell_type": "code",
   "execution_count": 18,
   "id": "3edcbf4a-ee09-4c98-9f11-22d898e4ccb8",
   "metadata": {},
   "outputs": [
    {
     "name": "stdout",
     "output_type": "stream",
     "text": [
      "471391\n"
     ]
    }
   ],
   "source": [
    "c=0\n",
    "for i in data['Rating']:\n",
    "    if(i >= 4.0 and i<= 4.5):\n",
    "        c +=1\n",
    "print(c)        "
   ]
  },
  {
   "cell_type": "code",
   "execution_count": 24,
   "id": "22f5d66c-1b49-4b5e-8fe2-fd471c749830",
   "metadata": {},
   "outputs": [
    {
     "name": "stdout",
     "output_type": "stream",
     "text": [
      "2836.495731414163\n"
     ]
    }
   ],
   "source": [
    "s = 0\n",
    "for i in data['Rating Count'].fillna(0):\n",
    "    s += int(i)\n",
    "\n",
    "print(s/len(data['Rating Count']))  "
   ]
  },
  {
   "cell_type": "code",
   "execution_count": null,
   "id": "7e553a09-4644-458d-949e-17c735b139b3",
   "metadata": {},
   "outputs": [],
   "source": []
  }
 ],
 "metadata": {
  "kernelspec": {
   "display_name": "Python 3 (ipykernel)",
   "language": "python",
   "name": "python3"
  },
  "language_info": {
   "codemirror_mode": {
    "name": "ipython",
    "version": 3
   },
   "file_extension": ".py",
   "mimetype": "text/x-python",
   "name": "python",
   "nbconvert_exporter": "python",
   "pygments_lexer": "ipython3",
   "version": "3.13.5"
  }
 },
 "nbformat": 4,
 "nbformat_minor": 5
}
