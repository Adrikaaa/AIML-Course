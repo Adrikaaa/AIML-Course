{
 "cells": [
  {
   "cell_type": "code",
   "execution_count": 21,
   "id": "b26010d0-e01d-4ae7-a058-e1552c0535cf",
   "metadata": {},
   "outputs": [],
   "source": [
    "fd=open(\"Inventory file.txt\",\"w\")\n",
    "fd.close()"
   ]
  },
  {
   "cell_type": "raw",
   "id": "4c7b9407-bda6-4254-a8ec-dbcce4a4ed99",
   "metadata": {},
   "source": [
    "1. Product ID\n",
    "2. Name of Product\n",
    "3. Price of Product"
   ]
  },
  {
   "cell_type": "code",
   "execution_count": 22,
   "id": "1c7e11f2-ad19-4dc6-b133-5e541e24e277",
   "metadata": {},
   "outputs": [],
   "source": [
    "fd=open(\"Inventory file.txt\",\"r\")\n",
    "\n",
    "txt = fd.read()\n",
    "\n",
    "fd.close()"
   ]
  },
  {
   "cell_type": "code",
   "execution_count": 24,
   "id": "7bcfcc81-5f61-4167-a9c4-d903b09d12b9",
   "metadata": {},
   "outputs": [
    {
     "name": "stdout",
     "output_type": "stream",
     "text": [
      "\n"
     ]
    }
   ],
   "source": [
    "print(txt)"
   ]
  },
  {
   "cell_type": "code",
   "execution_count": null,
   "id": "1e1e4d68-518b-41fb-b5c0-93b5308e441b",
   "metadata": {},
   "outputs": [],
   "source": []
  }
 ],
 "metadata": {
  "kernelspec": {
   "display_name": "Python 3 (ipykernel)",
   "language": "python",
   "name": "python3"
  },
  "language_info": {
   "codemirror_mode": {
    "name": "ipython",
    "version": 3
   },
   "file_extension": ".py",
   "mimetype": "text/x-python",
   "name": "python",
   "nbconvert_exporter": "python",
   "pygments_lexer": "ipython3",
   "version": "3.13.5"
  }
 },
 "nbformat": 4,
 "nbformat_minor": 5
}
